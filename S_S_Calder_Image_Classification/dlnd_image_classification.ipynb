{
 "cells": [
  {
   "cell_type": "markdown",
   "metadata": {
    "collapsed": true
   },
   "source": [
    "# Image Classification\n",
    "In this project, you'll classify images from the [CIFAR-10 dataset](https://www.cs.toronto.edu/~kriz/cifar.html).  The dataset consists of airplanes, dogs, cats, and other objects. You'll preprocess the images, then train a convolutional neural network on all the samples. The images need to be normalized and the labels need to be one-hot encoded.  You'll get to apply what you learned and build a convolutional, max pooling, dropout, and fully connected layers.  At the end, you'll get to see your neural network's predictions on the sample images.\n",
    "## Get the Data\n",
    "Run the following cell to download the [CIFAR-10 dataset for python](https://www.cs.toronto.edu/~kriz/cifar-10-python.tar.gz)."
   ]
  },
  {
   "cell_type": "code",
   "execution_count": 5,
   "metadata": {},
   "outputs": [
    {
     "name": "stdout",
     "output_type": "stream",
     "text": [
      "All files found!\n"
     ]
    }
   ],
   "source": [
    "\"\"\"\n",
    "DON'T MODIFY ANYTHING IN THIS CELL THAT IS BELOW THIS LINE\n",
    "\"\"\"\n",
    "from urllib.request import urlretrieve\n",
    "from os.path import isfile, isdir\n",
    "from tqdm import tqdm\n",
    "import problem_unittests as tests\n",
    "import tarfile\n",
    "\n",
    "cifar10_dataset_folder_path = 'cifar-10-batches-py'\n",
    "\n",
    "# Use Floyd's cifar-10 dataset if present\n",
    "floyd_cifar10_location = '/input/cifar-10/python.tar.gz'\n",
    "if isfile(floyd_cifar10_location):\n",
    "    tar_gz_path = floyd_cifar10_location\n",
    "else:\n",
    "    tar_gz_path = 'cifar-10-python.tar.gz'\n",
    "\n",
    "class DLProgress(tqdm):\n",
    "    last_block = 0\n",
    "\n",
    "    def hook(self, block_num=1, block_size=1, total_size=None):\n",
    "        self.total = total_size\n",
    "        self.update((block_num - self.last_block) * block_size)\n",
    "        self.last_block = block_num\n",
    "\n",
    "if not isfile(tar_gz_path):\n",
    "    with DLProgress(unit='B', unit_scale=True, miniters=1, desc='CIFAR-10 Dataset') as pbar:\n",
    "        urlretrieve(\n",
    "            'https://www.cs.toronto.edu/~kriz/cifar-10-python.tar.gz',\n",
    "            tar_gz_path,\n",
    "            pbar.hook)\n",
    "\n",
    "if not isdir(cifar10_dataset_folder_path):\n",
    "    with tarfile.open(tar_gz_path) as tar:\n",
    "        tar.extractall()\n",
    "        tar.close()\n",
    "\n",
    "\n",
    "tests.test_folder_path(cifar10_dataset_folder_path)"
   ]
  },
  {
   "cell_type": "markdown",
   "metadata": {},
   "source": [
    "## Explore the Data\n",
    "The dataset is broken into batches to prevent your machine from running out of memory.  The CIFAR-10 dataset consists of 5 batches, named `data_batch_1`, `data_batch_2`, etc.. Each batch contains the labels and images that are one of the following:\n",
    "* airplane\n",
    "* automobile\n",
    "* bird\n",
    "* cat\n",
    "* deer\n",
    "* dog\n",
    "* frog\n",
    "* horse\n",
    "* ship\n",
    "* truck\n",
    "\n",
    "Understanding a dataset is part of making predictions on the data.  Play around with the code cell below by changing the `batch_id` and `sample_id`. The `batch_id` is the id for a batch (1-5). The `sample_id` is the id for a image and label pair in the batch.\n",
    "\n",
    "Ask yourself \"What are all possible labels?\", \"What is the range of values for the image data?\", \"Are the labels in order or random?\".  Answers to questions like these will help you preprocess the data and end up with better predictions."
   ]
  },
  {
   "cell_type": "code",
   "execution_count": 7,
   "metadata": {},
   "outputs": [
    {
     "name": "stdout",
     "output_type": "stream",
     "text": [
      "\n",
      "Stats of batch 1:\n",
      "Samples: 10000\n",
      "Label Counts: {0: 1005, 1: 974, 2: 1032, 3: 1016, 4: 999, 5: 937, 6: 1030, 7: 1001, 8: 1025, 9: 981}\n",
      "First 20 Labels: [6, 9, 9, 4, 1, 1, 2, 7, 8, 3, 4, 7, 7, 2, 9, 9, 9, 3, 2, 6]\n",
      "\n",
      "Example of Image 5:\n",
      "Image - Min Value: 0 Max Value: 252\n",
      "Image - Shape: (32, 32, 3)\n",
      "Label - Label Id: 1 Name: automobile\n"
     ]
    },
    {
     "data": {
      "image/png": "[encoded data removed]",
      "text/plain": [
       "<matplotlib.figure.Figure at 0x7efe15cda6a0>"
      ]
     },
     "metadata": {
      "image/png": {
       "height": 250,
       "width": 253
      }
     },
     "output_type": "display_data"
    }
   ],
   "source": [
    "%matplotlib inline\n",
    "%config InlineBackend.figure_format = 'retina'\n",
    "\n",
    "import helper\n",
    "import numpy as np\n",
    "\n",
    "# Explore the dataset\n",
    "batch_id = 1\n",
    "sample_id = 5\n",
    "helper.display_stats(cifar10_dataset_folder_path, batch_id, sample_id)"
   ]
  },
  {
   "cell_type": "markdown",
   "metadata": {},
   "source": [
    "## Implement Preprocess Functions\n",
    "### Normalize\n",
    "In the cell below, implement the `normalize` function to take in image data, `x`, and return it as a normalized Numpy array. The values should be in the range of 0 to 1, inclusive.  The return object should be the same shape as `x`."
   ]
  },
  {
   "cell_type": "code",
   "execution_count": 9,
   "metadata": {},
   "outputs": [
    {
     "name": "stdout",
     "output_type": "stream",
     "text": [
      "Tests Passed\n"
     ]
    }
   ],
   "source": [
    "def normalize(x):\n",
    "    \"\"\"\n",
    "    Normalize a list of sample image data in the range of 0 to 1\n",
    "    : x: List of image data.  The image shape is (32, 32, 3)\n",
    "    : return: Numpy array of normalize data\n",
    "    \"\"\"\n",
    "    # TODO: Implement Function\n",
    "    \n",
    "    return x/255\n",
    "    \n",
    "\n",
    "\n",
    "\"\"\"\n",
    "DON'T MODIFY ANYTHING IN THIS CELL THAT IS BELOW THIS LINE\n",
    "\"\"\"\n",
    "tests.test_normalize(normalize)"
   ]
  },
  {
   "cell_type": "markdown",
   "metadata": {},
   "source": [
    "### One-hot encode\n",
    "Just like the previous code cell, you'll be implementing a function for preprocessing.  This time, you'll implement the `one_hot_encode` function. The input, `x`, are a list of labels.  Implement the function to return the list of labels as One-Hot encoded Numpy array.  The possible values for labels are 0 to 9. The one-hot encoding function should return the same encoding for each value between each call to `one_hot_encode`.  Make sure to save the map of encodings outside the function.\n",
    "\n",
    "Hint: Don't reinvent the wheel."
   ]
  },
  {
   "cell_type": "code",
   "execution_count": 13,
   "metadata": {},
   "outputs": [
    {
     "name": "stdout",
     "output_type": "stream",
     "text": [
      "Tests Passed\n"
     ]
    }
   ],
   "source": [
    "def one_hot_encode(x):\n",
    "    \"\"\"\n",
    "    One hot encode a list of sample labels. Return a one-hot encoded vector for each label.\n",
    "    : x: List of sample Labels\n",
    "    : return: Numpy array of one-hot encoded labels\n",
    "    \"\"\"\n",
    "    # TODO: Implement Function\n",
    "    #a = np.zeros((len(x), max(x) + 1))\n",
    "    #for i in range(len(x)):\n",
    "    #   a[i, x[i]] = 1\n",
    "    \n",
    "    #return a\n",
    "\n",
    "    \n",
    "    a = np.zeros((len(x), 10))\n",
    "    a[np.arange(len(x)), x] = 1    \n",
    "    return a\n",
    "\"\"\"\n",
    "DON'T MODIFY ANYTHING IN THIS CELL THAT IS BELOW THIS LINE\n",
    "\"\"\"\n",
    "tests.test_one_hot_encode(one_hot_encode)"
   ]
  },
  {
   "cell_type": "markdown",
   "metadata": {},
   "source": [
    "### Randomize Data\n",
    "As you saw from exploring the data above, the order of the samples are randomized.  It doesn't hurt to randomize it again, but you don't need to for this dataset."
   ]
  },
  {
   "cell_type": "markdown",
   "metadata": {},
   "source": [
    "## Preprocess all the data and save it\n",
    "Running the code cell below will preprocess all the CIFAR-10 data and save it to file. The code below also uses 10% of the training data for validation."
   ]
  },
  {
   "cell_type": "code",
   "execution_count": 14,
   "metadata": {
    "collapsed": true
   },
   "outputs": [],
   "source": [
    "\"\"\"\n",
    "DON'T MODIFY ANYTHING IN THIS CELL\n",
    "\"\"\"\n",
    "# Preprocess Training, Validation, and Testing Data\n",
    "helper.preprocess_and_save_data(cifar10_dataset_folder_path, normalize, one_hot_encode)"
   ]
  },
  {
   "cell_type": "markdown",
   "metadata": {},
   "source": [
    "# Check Point\n",
    "This is your first checkpoint.  If you ever decide to come back to this notebook or have to restart the notebook, you can start from here.  The preprocessed data has been saved to disk."
   ]
  },
  {
   "cell_type": "code",
   "execution_count": 15,
   "metadata": {
    "collapsed": true
   },
   "outputs": [],
   "source": [
    "\"\"\"\n",
    "DON'T MODIFY ANYTHING IN THIS CELL\n",
    "\"\"\"\n",
    "import pickle\n",
    "import problem_unittests as tests\n",
    "import helper\n",
    "\n",
    "# Load the Preprocessed Validation data\n",
    "valid_features, valid_labels = pickle.load(open('preprocess_validation.p', mode='rb'))"
   ]
  },
  {
   "cell_type": "markdown",
   "metadata": {},
   "source": [
    "## Build the network\n",
    "For the neural network, you'll build each layer into a function.  Most of the code you've seen has been outside of functions. To test your code more thoroughly, we require that you put each layer in a function.  This allows us to give you better feedback and test for simple mistakes using our unittests before you submit your project.\n",
    "\n",
    ">**Note:** If you're finding it hard to dedicate enough time for this course each week, we've provided a small shortcut to this part of the project. In the next couple of problems, you'll have the option to use classes from the [TensorFlow Layers](https://www.tensorflow.org/api_docs/python/tf/layers) or [TensorFlow Layers (contrib)](https://www.tensorflow.org/api_guides/python/contrib.layers) packages to build each layer, except the layers you build in the \"Convolutional and Max Pooling Layer\" section.  TF Layers is similar to Keras's and TFLearn's abstraction to layers, so it's easy to pickup.\n",
    "\n",
    ">However, if you would like to get the most out of this course, try to solve all the problems _without_ using anything from the TF Layers packages. You **can** still use classes from other packages that happen to have the same name as ones you find in TF Layers! For example, instead of using the TF Layers version of the `conv2d` class, [tf.layers.conv2d](https://www.tensorflow.org/api_docs/python/tf/layers/conv2d), you would want to use the TF Neural Network version of `conv2d`, [tf.nn.conv2d](https://www.tensorflow.org/api_docs/python/tf/nn/conv2d). \n",
    "\n",
    "Let's begin!\n",
    "\n",
    "### Input\n",
    "The neural network needs to read the image data, one-hot encoded labels, and dropout keep probability. Implement the following functions\n",
    "* Implement `neural_net_image_input`\n",
    " * Return a [TF Placeholder](https://www.tensorflow.org/api_docs/python/tf/placeholder)\n",
    " * Set the shape using `image_shape` with batch size set to `None`.\n",
    " * Name the TensorFlow placeholder \"x\" using the TensorFlow `name` parameter in the [TF Placeholder](https://www.tensorflow.org/api_docs/python/tf/placeholder).\n",
    "* Implement `neural_net_label_input`\n",
    " * Return a [TF Placeholder](https://www.tensorflow.org/api_docs/python/tf/placeholder)\n",
    " * Set the shape using `n_classes` with batch size set to `None`.\n",
    " * Name the TensorFlow placeholder \"y\" using the TensorFlow `name` parameter in the [TF Placeholder](https://www.tensorflow.org/api_docs/python/tf/placeholder).\n",
    "* Implement `neural_net_keep_prob_input`\n",
    " * Return a [TF Placeholder](https://www.tensorflow.org/api_docs/python/tf/placeholder) for dropout keep probability.\n",
    " * Name the TensorFlow placeholder \"keep_prob\" using the TensorFlow `name` parameter in the [TF Placeholder](https://www.tensorflow.org/api_docs/python/tf/placeholder).\n",
    "\n",
    "These names will be used at the end of the project to load your saved model.\n",
    "\n",
    "Note: `None` for shapes in TensorFlow allow for a dynamic size."
   ]
  },
  {
   "cell_type": "code",
   "execution_count": 16,
   "metadata": {},
   "outputs": [
    {
     "name": "stdout",
     "output_type": "stream",
     "text": [
      "Image Input Tests Passed.\n",
      "Label Input Tests Passed.\n",
      "Keep Prob Tests Passed.\n"
     ]
    }
   ],
   "source": [
    "import tensorflow as tf\n",
    "\n",
    "def neural_net_image_input(image_shape):\n",
    "    \"\"\"\n",
    "    Return a Tensor for a batch of image input\n",
    "    : image_shape: Shape of the images\n",
    "    : return: Tensor for image input.\n",
    "    \"\"\"\n",
    "    # TODO: Implement Function\n",
    "    #def neural_net_imageinput(image_shape):\n",
    "    return tf.placeholder(tf.float32, (None, *image_shape), 'x')\n",
    "\n",
    "\n",
    "def neural_net_label_input(n_classes):\n",
    "    \"\"\"\n",
    "    Return a Tensor for a batch of label input\n",
    "    : n_classes: Number of classes\n",
    "    : return: Tensor for label input.\n",
    "    \"\"\"\n",
    "    # TODO: Implement Function\n",
    "    return tf.placeholder(tf.float32, [None, n_classes], 'y')\n",
    "\n",
    "\n",
    "def neural_net_keep_prob_input():\n",
    "    \"\"\"\n",
    "    Return a Tensor for keep probability\n",
    "    : return: Tensor for keep probability.\n",
    "    \"\"\"\n",
    "    # TODO: Implement Function\n",
    "    return tf.placeholder(tf.float32,None, name='keep_prob')\n",
    "\n",
    "\n",
    "\"\"\"\n",
    "DON'T MODIFY ANYTHING IN THIS CELL THAT IS BELOW THIS LINE\n",
    "\"\"\"\n",
    "tf.reset_default_graph()\n",
    "tests.test_nn_image_inputs(neural_net_image_input)\n",
    "tests.test_nn_label_inputs(neural_net_label_input)\n",
    "tests.test_nn_keep_prob_inputs(neural_net_keep_prob_input)"
   ]
  },
  {
   "cell_type": "markdown",
   "metadata": {},
   "source": [
    "### Convolution and Max Pooling Layer\n",
    "Convolution layers have a lot of success with images. For this code cell, you should implement the function `conv2d_maxpool` to apply convolution then max pooling:\n",
    "* Create the weight and bias using `conv_ksize`, `conv_num_outputs` and the shape of `x_tensor`.\n",
    "* Apply a convolution to `x_tensor` using weight and `conv_strides`.\n",
    " * We recommend you use same padding, but you're welcome to use any padding.\n",
    "* Add bias\n",
    "* Add a nonlinear activation to the convolution.\n",
    "* Apply Max Pooling using `pool_ksize` and `pool_strides`.\n",
    " * We recommend you use same padding, but you're welcome to use any padding.\n",
    "\n",
    "**Note:** You **can't** use [TensorFlow Layers](https://www.tensorflow.org/api_docs/python/tf/layers) or [TensorFlow Layers (contrib)](https://www.tensorflow.org/api_guides/python/contrib.layers) for **this** layer, but you can still use TensorFlow's [Neural Network](https://www.tensorflow.org/api_docs/python/tf/nn) package. You may still use the shortcut option for all the **other** layers."
   ]
  },
  {
   "cell_type": "code",
   "execution_count": 19,
   "metadata": {},
   "outputs": [
    {
     "name": "stdout",
     "output_type": "stream",
     "text": [
      "Tests Passed\n"
     ]
    }
   ],
   "source": [
    "def conv2d_maxpool(x_tensor, conv_num_outputs, conv_ksize, conv_strides, pool_ksize, pool_strides):\n",
    "    \"\"\"\n",
    "    Apply convolution then max pooling to x_tensor\n",
    "    :param x_tensor: TensorFlow Tensor\n",
    "    :param conv_num_outputs: Number of outputs for the convolutional layer\n",
    "    :param conv_ksize: kernal size 2-D Tuple for the convolutional layer\n",
    "    :param conv_strides: Stride 2-D Tuple for convolution\n",
    "    :param pool_ksize: kernal size 2-D Tuple for pool\n",
    "    :param pool_strides: Stride 2-D Tuple for pool\n",
    "    : return: A tensor that represents convolution and max pooling of x_tensor\n",
    "    \"\"\"\n",
    "    \n",
    "    # TODO: Implement Function\n",
    "    num_channels = int(x_tensor.get_shape()[3])\n",
    "    filter_weights = tf.Variable(tf.truncated_normal([*conv_ksize, num_channels, conv_num_outputs], stddev=0.05))\n",
    "    filter_biases = tf.Variable(tf.constant(0.01, shape=[conv_num_outputs], dtype=tf.float32))\n",
    "    layer = tf.nn.conv2d(input = x_tensor, filter = filter_weights, strides=[1, *conv_strides, 1], padding= 'SAME')\n",
    "    layer += filter_biases\n",
    "    layer = tf.nn.relu(layer)\n",
    "    layer = tf.nn.max_pool(layer, [1, *pool_ksize, 1], strides=[1, *pool_strides, 1], padding = 'SAME')\n",
    "    \n",
    "    #weights = tf.Variable(tf.truncated_normal([*conv_ksize, x_tensor.get_shape().as_list()[3], conv_num_outputs])\n",
    "\n",
    "    #bias =tf.Variable(tf.zeros(conv_num_outputs))\n",
    "                          \n",
    "    #conv_layer = tf.nn.conv2d(input, wieghts, strides=con_strides, padding='SAME')\n",
    "    \n",
    "    #conv_layer = tf.nn.bias_add(conv_layer, bias)\n",
    "    \n",
    "    #conv_layer = tf.nn.relu(conv_layer)\n",
    "    \n",
    "    #conv_layer = tf.nn.max_pool(conv_layer, ksize=pool_ksize, strides=pool_strides, padding = 'SAME')\n",
    "    \n",
    "    return layer\n",
    "       \n",
    "\"\"\"\n",
    "DON'T MODIFY ANYTHING IN THIS CELL THAT IS BELOW THIS LINE\n",
    "\"\"\"\n",
    "tests.test_con_pool(conv2d_maxpool)"
   ]
  },
  {
   "cell_type": "markdown",
   "metadata": {},
   "source": [
    "### Flatten Layer\n",
    "Implement the `flatten` function to change the dimension of `x_tensor` from a 4-D tensor to a 2-D tensor.  The output should be the shape (*Batch Size*, *Flattened Image Size*). Shortcut option: you can use classes from the [TensorFlow Layers](https://www.tensorflow.org/api_docs/python/tf/layers) or [TensorFlow Layers (contrib)](https://www.tensorflow.org/api_guides/python/contrib.layers) packages for this layer. For more of a challenge, only use other TensorFlow packages."
   ]
  },
  {
   "cell_type": "code",
   "execution_count": 20,
   "metadata": {},
   "outputs": [
    {
     "name": "stdout",
     "output_type": "stream",
     "text": [
      "Tests Passed\n"
     ]
    }
   ],
   "source": [
    "def flatten(x_tensor):\n",
    "    \"\"\"\n",
    "    Flatten x_tensor to (Batch Size, Flattened Image Size)\n",
    "    : x_tensor: A tensor of size (Batch Size, ...), where ... are the image dimensions.\n",
    "    : return: A tensor of size (Batch Size, Flattened Image Size).\n",
    "    \"\"\"\n",
    "    # TODO: Implement Function\n",
    "    \n",
    "    flatten_layer = tf.contrib.layers.flatten(x_tensor)\n",
    "    return flatten_layer\n",
    "\n",
    "    #return tf.contrib.layers.flatten(x_tensor)\n",
    "\n",
    "\n",
    "\"\"\"\n",
    "DON'T MODIFY ANYTHING IN THIS CELL THAT IS BELOW THIS LINE\n",
    "\"\"\"\n",
    "tests.test_flatten(flatten)"
   ]
  },
  {
   "cell_type": "markdown",
   "metadata": {},
   "source": [
    "### Fully-Connected Layer\n",
    "Implement the `fully_conn` function to apply a fully connected layer to `x_tensor` with the shape (*Batch Size*, *num_outputs*). Shortcut option: you can use classes from the [TensorFlow Layers](https://www.tensorflow.org/api_docs/python/tf/layers) or [TensorFlow Layers (contrib)](https://www.tensorflow.org/api_guides/python/contrib.layers) packages for this layer. For more of a challenge, only use other TensorFlow packages."
   ]
  },
  {
   "cell_type": "code",
   "execution_count": 21,
   "metadata": {},
   "outputs": [
    {
     "name": "stdout",
     "output_type": "stream",
     "text": [
      "Tests Passed\n"
     ]
    }
   ],
   "source": [
    "def fully_conn(x_tensor, num_outputs):\n",
    "    \"\"\"\n",
    "    Apply a fully connected layer to x_tensor using weight and bias\n",
    "    : x_tensor: A 2-D tensor where the first dimension is batch size.\n",
    "    : num_outputs: The number of output that the new tensor should be.\n",
    "    : return: A 2-D tensor where the second dimension is num_outputs.\n",
    "    \"\"\"\n",
    "    # TODO: Implement Function\n",
    "    #return tf.contrib.layers.fully_connected(x_tensor, num_outputs, activation_fn=None)\n",
    "    return tf.layers.dense(inputs=x_tensor,units = num_outputs, activation=tf.nn.relu)\n",
    "\n",
    "\"\"\"\n",
    "DON'T MODIFY ANYTHING IN THIS CELL THAT IS BELOW THIS LINE\n",
    "\"\"\"\n",
    "tests.test_fully_conn(fully_conn)"
   ]
  },
  {
   "cell_type": "markdown",
   "metadata": {},
   "source": [
    "### Output Layer\n",
    "Implement the `output` function to apply a fully connected layer to `x_tensor` with the shape (*Batch Size*, *num_outputs*). Shortcut option: you can use classes from the [TensorFlow Layers](https://www.tensorflow.org/api_docs/python/tf/layers) or [TensorFlow Layers (contrib)](https://www.tensorflow.org/api_guides/python/contrib.layers) packages for this layer. For more of a challenge, only use other TensorFlow packages.\n",
    "\n",
    "**Note:** Activation, softmax, or cross entropy should **not** be applied to this."
   ]
  },
  {
   "cell_type": "code",
   "execution_count": 22,
   "metadata": {},
   "outputs": [
    {
     "name": "stdout",
     "output_type": "stream",
     "text": [
      "Tests Passed\n"
     ]
    }
   ],
   "source": [
    "def output(x_tensor, num_outputs):\n",
    "    \"\"\"\n",
    "    Apply a output layer to x_tensor using weight and bias\n",
    "    : x_tensor: A 2-D tensor where the first dimension is batch size.\n",
    "    : num_outputs: The number of output that the new tensor should be.\n",
    "    : return: A 2-D tensor where the second dimension is num_outputs.\n",
    "    \"\"\"\n",
    "    # TODO: Implement Function use code from above but modify\n",
    "    return tf.contrib.layers.fully_connected(x_tensor, num_outputs, activation_fn = None)\n",
    "   \n",
    "    \n",
    "\n",
    "\n",
    "\"\"\"\n",
    "DON'T MODIFY ANYTHING IN THIS CELL THAT IS BELOW THIS LINE\n",
    "\"\"\"\n",
    "tests.test_output(output)"
   ]
  },
  {
   "cell_type": "markdown",
   "metadata": {},
   "source": [
    "### Create Convolutional Model\n",
    "Implement the function `conv_net` to create a convolutional neural network model. The function takes in a batch of images, `x`, and outputs logits.  Use the layers you created above to create this model:\n",
    "\n",
    "* Apply 1, 2, or 3 Convolution and Max Pool layers\n",
    "* Apply a Flatten Layer\n",
    "* Apply 1, 2, or 3 Fully Connected Layers\n",
    "* Apply an Output Layer\n",
    "* Return the output\n",
    "* Apply [TensorFlow's Dropout](https://www.tensorflow.org/api_docs/python/tf/nn/dropout) to one or more layers in the model using `keep_prob`. "
   ]
  },
  {
   "cell_type": "code",
   "execution_count": 23,
   "metadata": {},
   "outputs": [
    {
     "name": "stdout",
     "output_type": "stream",
     "text": [
      "Neural Network Built!\n"
     ]
    }
   ],
   "source": [
    "def conv_net(x, keep_prob):\n",
    "    \"\"\"\n",
    "    Create a convolutional neural network model\n",
    "    : x: Placeholder tensor that holds image data.\n",
    "    : keep_prob: Placeholder tensor that hold dropout keep probability.\n",
    "    : return: Tensor that represents logits\n",
    "    \"\"\"\n",
    "    # TODO: Apply 1, 2, or 3 Convolution and Max Pool layers\n",
    "    #    Play around with different number of outputs, kernel size and stride\n",
    "    # Function Definition from Above:\n",
    "    #    conv2d_maxpool(x_tensor, conv_num_outputs, conv_ksize, conv_strides, pool_ksize, pool_strides)\n",
    "    # Layers 1, 2, 3\n",
    "    con1 = conv2d_maxpool(x, 16,(4,4),(1,1),(2,2),(2,2))\n",
    "    con2 = conv2d_maxpool(con1, 32, (3, 3), (2, 2), (2, 2), (2, 2))\n",
    "    con3 = conv2d_maxpool(con2, 64, (3, 3), (2, 2), (2, 2), (2, 2))\n",
    "\n",
    "    # TODO: Apply a Flatten Layer\n",
    "    # Function Definition from Above:\n",
    "    #   flatten(x_tensor)\n",
    "    flatten1 = flatten(con3)\n",
    "    \n",
    "\n",
    "    # TODO: Apply 1, 2, or 3 Fully Connected Layers\n",
    "    #    Play around with different number of outputs\n",
    "    # Function Definition from Above:\n",
    "    #   fully_conn(x_tensor, num_outputs)\n",
    "    fc1 = fully_conn(flatten1, 256)\n",
    "\n",
    "    fc1 = tf.nn.dropout(fc1, keep_prob)\n",
    "\n",
    "    fc2 = fully_conn(fc1, 512)\n",
    "\n",
    "    fc2 = tf.nn.dropout(fc2, keep_prob)\n",
    "    \n",
    "    \n",
    "    # TODO: Apply an Output Layer\n",
    "    #    Set this to the number of classes\n",
    "    # Function Definition from Above:\n",
    "    #   output(x_tensor, num_outputs)\n",
    "    out = output(fc2, 10)\n",
    "\n",
    "    \n",
    "    # TODO: return output\n",
    "    return out\n",
    "\n",
    "\n",
    "\"\"\"\n",
    "DON'T MODIFY ANYTHING IN THIS CELL THAT IS BELOW THIS LINE\n",
    "\"\"\"\n",
    "\n",
    "##############################\n",
    "## Build the Neural Network ##\n",
    "##############################\n",
    "\n",
    "# Remove previous weights, bias, inputs, etc..\n",
    "tf.reset_default_graph()\n",
    "\n",
    "# Inputs\n",
    "x = neural_net_image_input((32, 32, 3))\n",
    "y = neural_net_label_input(10)\n",
    "keep_prob = neural_net_keep_prob_input()\n",
    "\n",
    "# Model\n",
    "logits = conv_net(x, keep_prob)\n",
    "\n",
    "# Name logits Tensor, so that is can be loaded from disk after training\n",
    "logits = tf.identity(logits, name='logits')\n",
    "\n",
    "# Loss and Optimizer\n",
    "cost = tf.reduce_mean(tf.nn.softmax_cross_entropy_with_logits(logits=logits, labels=y))\n",
    "optimizer = tf.train.AdamOptimizer().minimize(cost)\n",
    "\n",
    "# Accuracy\n",
    "correct_pred = tf.equal(tf.argmax(logits, 1), tf.argmax(y, 1))\n",
    "accuracy = tf.reduce_mean(tf.cast(correct_pred, tf.float32), name='accuracy')\n",
    "\n",
    "tests.test_conv_net(conv_net)"
   ]
  },
  {
   "cell_type": "markdown",
   "metadata": {},
   "source": [
    "## Train the Neural Network\n",
    "### Single Optimization\n",
    "Implement the function `train_neural_network` to do a single optimization.  The optimization should use `optimizer` to optimize in `session` with a `feed_dict` of the following:\n",
    "* `x` for image input\n",
    "* `y` for labels\n",
    "* `keep_prob` for keep probability for dropout\n",
    "\n",
    "This function will be called for each batch, so `tf.global_variables_initializer()` has already been called.\n",
    "\n",
    "Note: Nothing needs to be returned. This function is only optimizing the neural network."
   ]
  },
  {
   "cell_type": "code",
   "execution_count": 24,
   "metadata": {},
   "outputs": [
    {
     "name": "stdout",
     "output_type": "stream",
     "text": [
      "Tests Passed\n"
     ]
    }
   ],
   "source": [
    "def train_neural_network(session, optimizer, keep_probability, feature_batch, label_batch):\n",
    "    \"\"\"\n",
    "    Optimize the session on a batch of images and labels\n",
    "    : session: Current TensorFlow session\n",
    "    : optimizer: TensorFlow optimizer function\n",
    "    : keep_probability: keep probability\n",
    "    : feature_batch: Batch of Numpy image data\n",
    "    : label_batch: Batch of Numpy label data\n",
    "    \"\"\"\n",
    "    # TODO: Implement Function\n",
    "    session.run(optimizer, feed_dict={x: feature_batch, y:label_batch, keep_prob: keep_probability})\n",
    "\n",
    "\n",
    "\"\"\"\n",
    "DON'T MODIFY ANYTHING IN THIS CELL THAT IS BELOW THIS LINE\n",
    "\"\"\"\n",
    "tests.test_train_nn(train_neural_network)"
   ]
  },
  {
   "cell_type": "markdown",
   "metadata": {},
   "source": [
    "### Show Stats\n",
    "Implement the function `print_stats` to print loss and validation accuracy.  Use the global variables `valid_features` and `valid_labels` to calculate validation accuracy.  Use a keep probability of `1.0` to calculate the loss and validation accuracy."
   ]
  },
  {
   "cell_type": "code",
   "execution_count": 25,
   "metadata": {
    "collapsed": true
   },
   "outputs": [],
   "source": [
    "def print_stats(session, feature_batch, label_batch, cost, accuracy):\n",
    "    \"\"\"\n",
    "    Print information about loss and validation accuracy\n",
    "    : session: Current TensorFlow session\n",
    "    : feature_batch: Batch of Numpy image data\n",
    "    : label_batch: Batch of Numpy label data\n",
    "    : cost: TensorFlow cost function\n",
    "    : accuracy: TensorFlow accuracy function\n",
    "    \"\"\"\n",
    "    # TODO: Implement Function\n",
    "    validation_size = 512\n",
    "    loss = session.run(cost, feed_dict={x: feature_batch, y: label_batch, keep_prob: 1.0})\n",
    "    valid_acc = session.run(accuracy, feed_dict = { x: valid_features[:validation_size], y: valid_labels[:validation_size], keep_prob: 1.0})\n",
    "    \n",
    "    print('Loss: {0} Validation Accuracy: {1}'.format(loss, valid_acc)) "
   ]
  },
  {
   "cell_type": "markdown",
   "metadata": {},
   "source": [
    "### Hyperparameters\n",
    "Tune the following parameters:\n",
    "* Set `epochs` to the number of iterations until the network stops learning or start overfitting\n",
    "* Set `batch_size` to the highest number that your machine has memory for.  Most people set them to common sizes of memory:\n",
    " * 64\n",
    " * 128\n",
    " * 256\n",
    " * ...\n",
    "* Set `keep_probability` to the probability of keeping a node using dropout"
   ]
  },
  {
   "cell_type": "code",
   "execution_count": 28,
   "metadata": {
    "collapsed": true
   },
   "outputs": [],
   "source": [
    "# TODO: Tune Parameters\n",
    "epochs = 60\n",
    "batch_size = 512\n",
    "keep_probability = .8"
   ]
  },
  {
   "cell_type": "markdown",
   "metadata": {},
   "source": [
    "### Train on a Single CIFAR-10 Batch\n",
    "Instead of training the neural network on all the CIFAR-10 batches of data, let's use a single batch. This should save time while you iterate on the model to get a better accuracy.  Once the final validation accuracy is 50% or greater, run the model on all the data in the next section."
   ]
  },
  {
   "cell_type": "code",
   "execution_count": 29,
   "metadata": {},
   "outputs": [
    {
     "name": "stdout",
     "output_type": "stream",
     "text": [
      "Checking the Training on a Single Batch...\n",
      "Epoch  1, CIFAR-10 Batch 1:  Loss: 2.1759133338928223 Validation Accuracy: 0.228515625\n",
      "Epoch  2, CIFAR-10 Batch 1:  Loss: 2.0255913734436035 Validation Accuracy: 0.2109375\n",
      "Epoch  3, CIFAR-10 Batch 1:  Loss: 1.914609670639038 Validation Accuracy: 0.25\n",
      "Epoch  4, CIFAR-10 Batch 1:  Loss: 1.8775837421417236 Validation Accuracy: 0.28125\n",
      "Epoch  5, CIFAR-10 Batch 1:  Loss: 1.818974494934082 Validation Accuracy: 0.30078125\n",
      "Epoch  6, CIFAR-10 Batch 1:  Loss: 1.7659434080123901 Validation Accuracy: 0.314453125\n",
      "Epoch  7, CIFAR-10 Batch 1:  Loss: 1.7303259372711182 Validation Accuracy: 0.357421875\n",
      "Epoch  8, CIFAR-10 Batch 1:  Loss: 1.6577551364898682 Validation Accuracy: 0.365234375\n",
      "Epoch  9, CIFAR-10 Batch 1:  Loss: 1.6250492334365845 Validation Accuracy: 0.388671875\n",
      "Epoch 10, CIFAR-10 Batch 1:  Loss: 1.5620763301849365 Validation Accuracy: 0.412109375\n",
      "Epoch 11, CIFAR-10 Batch 1:  Loss: 1.5472605228424072 Validation Accuracy: 0.421875\n",
      "Epoch 12, CIFAR-10 Batch 1:  Loss: 1.5003209114074707 Validation Accuracy: 0.423828125\n",
      "Epoch 13, CIFAR-10 Batch 1:  Loss: 1.4678833484649658 Validation Accuracy: 0.423828125\n",
      "Epoch 14, CIFAR-10 Batch 1:  Loss: 1.431542158126831 Validation Accuracy: 0.44921875\n",
      "Epoch 15, CIFAR-10 Batch 1:  Loss: 1.4120776653289795 Validation Accuracy: 0.45703125\n",
      "Epoch 16, CIFAR-10 Batch 1:  Loss: 1.3719416856765747 Validation Accuracy: 0.4609375\n",
      "Epoch 17, CIFAR-10 Batch 1:  Loss: 1.3485887050628662 Validation Accuracy: 0.474609375\n",
      "Epoch 18, CIFAR-10 Batch 1:  Loss: 1.318302869796753 Validation Accuracy: 0.470703125\n",
      "Epoch 19, CIFAR-10 Batch 1:  Loss: 1.3035850524902344 Validation Accuracy: 0.470703125\n",
      "Epoch 20, CIFAR-10 Batch 1:  Loss: 1.2647541761398315 Validation Accuracy: 0.4765625\n",
      "Epoch 21, CIFAR-10 Batch 1:  Loss: 1.2361564636230469 Validation Accuracy: 0.474609375\n",
      "Epoch 22, CIFAR-10 Batch 1:  Loss: 1.2142572402954102 Validation Accuracy: 0.46875\n",
      "Epoch 23, CIFAR-10 Batch 1:  Loss: 1.1859440803527832 Validation Accuracy: 0.474609375\n",
      "Epoch 24, CIFAR-10 Batch 1:  Loss: 1.1657037734985352 Validation Accuracy: 0.47265625\n",
      "Epoch 25, CIFAR-10 Batch 1:  Loss: 1.1848065853118896 Validation Accuracy: 0.474609375\n",
      "Epoch 26, CIFAR-10 Batch 1:  Loss: 1.1287858486175537 Validation Accuracy: 0.478515625\n",
      "Epoch 27, CIFAR-10 Batch 1:  Loss: 1.0910719633102417 Validation Accuracy: 0.4765625\n",
      "Epoch 28, CIFAR-10 Batch 1:  Loss: 1.0862500667572021 Validation Accuracy: 0.470703125\n",
      "Epoch 29, CIFAR-10 Batch 1:  Loss: 1.0560108423233032 Validation Accuracy: 0.4765625\n",
      "Epoch 30, CIFAR-10 Batch 1:  Loss: 1.0218589305877686 Validation Accuracy: 0.484375\n",
      "Epoch 31, CIFAR-10 Batch 1:  Loss: 1.004963994026184 Validation Accuracy: 0.482421875\n",
      "Epoch 32, CIFAR-10 Batch 1:  Loss: 0.9855860471725464 Validation Accuracy: 0.482421875\n",
      "Epoch 33, CIFAR-10 Batch 1:  Loss: 0.9646319150924683 Validation Accuracy: 0.482421875\n",
      "Epoch 34, CIFAR-10 Batch 1:  Loss: 0.9471530914306641 Validation Accuracy: 0.4765625\n",
      "Epoch 35, CIFAR-10 Batch 1:  Loss: 0.9930756092071533 Validation Accuracy: 0.50390625\n",
      "Epoch 36, CIFAR-10 Batch 1:  Loss: 0.917451024055481 Validation Accuracy: 0.501953125\n",
      "Epoch 37, CIFAR-10 Batch 1:  Loss: 0.9430879950523376 Validation Accuracy: 0.484375\n",
      "Epoch 38, CIFAR-10 Batch 1:  Loss: 0.9364597797393799 Validation Accuracy: 0.484375\n",
      "Epoch 39, CIFAR-10 Batch 1:  Loss: 0.9667643308639526 Validation Accuracy: 0.48046875\n",
      "Epoch 40, CIFAR-10 Batch 1:  Loss: 0.8639804720878601 Validation Accuracy: 0.498046875\n",
      "Epoch 41, CIFAR-10 Batch 1:  Loss: 0.9568023085594177 Validation Accuracy: 0.482421875\n",
      "Epoch 42, CIFAR-10 Batch 1:  Loss: 0.8339902758598328 Validation Accuracy: 0.517578125\n",
      "Epoch 43, CIFAR-10 Batch 1:  Loss: 0.8141826391220093 Validation Accuracy: 0.517578125\n",
      "Epoch 44, CIFAR-10 Batch 1:  Loss: 0.8141648769378662 Validation Accuracy: 0.515625\n",
      "Epoch 45, CIFAR-10 Batch 1:  Loss: 0.775787889957428 Validation Accuracy: 0.51171875\n",
      "Epoch 46, CIFAR-10 Batch 1:  Loss: 0.7532889246940613 Validation Accuracy: 0.521484375\n",
      "Epoch 47, CIFAR-10 Batch 1:  Loss: 0.7546366453170776 Validation Accuracy: 0.505859375\n",
      "Epoch 48, CIFAR-10 Batch 1:  Loss: 0.722564697265625 Validation Accuracy: 0.521484375\n",
      "Epoch 49, CIFAR-10 Batch 1:  Loss: 0.6938294172286987 Validation Accuracy: 0.51953125\n",
      "Epoch 50, CIFAR-10 Batch 1:  Loss: 0.6743248105049133 Validation Accuracy: 0.529296875\n",
      "Epoch 51, CIFAR-10 Batch 1:  Loss: 0.6642212867736816 Validation Accuracy: 0.517578125\n",
      "Epoch 52, CIFAR-10 Batch 1:  Loss: 0.638697624206543 Validation Accuracy: 0.521484375\n",
      "Epoch 53, CIFAR-10 Batch 1:  Loss: 0.6391646265983582 Validation Accuracy: 0.525390625\n",
      "Epoch 54, CIFAR-10 Batch 1:  Loss: 0.6557802557945251 Validation Accuracy: 0.505859375\n",
      "Epoch 55, CIFAR-10 Batch 1:  Loss: 0.6113006472587585 Validation Accuracy: 0.53515625\n",
      "Epoch 56, CIFAR-10 Batch 1:  Loss: 0.6173058748245239 Validation Accuracy: 0.529296875\n",
      "Epoch 57, CIFAR-10 Batch 1:  Loss: 0.5714117884635925 Validation Accuracy: 0.5390625\n",
      "Epoch 58, CIFAR-10 Batch 1:  Loss: 0.5332039594650269 Validation Accuracy: 0.54296875\n",
      "Epoch 59, CIFAR-10 Batch 1:  Loss: 0.523231565952301 Validation Accuracy: 0.5390625\n",
      "Epoch 60, CIFAR-10 Batch 1:  Loss: 0.5132417678833008 Validation Accuracy: 0.525390625\n"
     ]
    }
   ],
   "source": [
    "\"\"\"\n",
    "DON'T MODIFY ANYTHING IN THIS CELL\n",
    "\"\"\"\n",
    "print('Checking the Training on a Single Batch...')\n",
    "with tf.Session() as sess:\n",
    "    # Initializing the variables\n",
    "    sess.run(tf.global_variables_initializer())\n",
    "    \n",
    "    # Training cycle\n",
    "    for epoch in range(epochs):\n",
    "        batch_i = 1\n",
    "        for batch_features, batch_labels in helper.load_preprocess_training_batch(batch_i, batch_size):\n",
    "            train_neural_network(sess, optimizer, keep_probability, batch_features, batch_labels)\n",
    "        print('Epoch {:>2}, CIFAR-10 Batch {}:  '.format(epoch + 1, batch_i), end='')\n",
    "        print_stats(sess, batch_features, batch_labels, cost, accuracy)"
   ]
  },
  {
   "cell_type": "markdown",
   "metadata": {},
   "source": [
    "### Fully Train the Model\n",
    "Now that you got a good accuracy with a single CIFAR-10 batch, try it with all five batches."
   ]
  },
  {
   "cell_type": "code",
   "execution_count": 30,
   "metadata": {},
   "outputs": [
    {
     "name": "stdout",
     "output_type": "stream",
     "text": [
      "Training...\n",
      "Epoch  1, CIFAR-10 Batch 1:  Loss: 2.2083544731140137 Validation Accuracy: 0.150390625\n",
      "Epoch  1, CIFAR-10 Batch 2:  Loss: 1.9909745454788208 Validation Accuracy: 0.232421875\n",
      "Epoch  1, CIFAR-10 Batch 3:  Loss: 1.8273814916610718 Validation Accuracy: 0.27734375\n",
      "Epoch  1, CIFAR-10 Batch 4:  Loss: 1.7710989713668823 Validation Accuracy: 0.314453125\n",
      "Epoch  1, CIFAR-10 Batch 5:  Loss: 1.777341365814209 Validation Accuracy: 0.318359375\n",
      "Epoch  2, CIFAR-10 Batch 1:  Loss: 1.8111097812652588 Validation Accuracy: 0.33984375\n",
      "Epoch  2, CIFAR-10 Batch 2:  Loss: 1.6608545780181885 Validation Accuracy: 0.375\n",
      "Epoch  2, CIFAR-10 Batch 3:  Loss: 1.4600822925567627 Validation Accuracy: 0.37890625\n",
      "Epoch  2, CIFAR-10 Batch 4:  Loss: 1.525176763534546 Validation Accuracy: 0.392578125\n",
      "Epoch  2, CIFAR-10 Batch 5:  Loss: 1.5676279067993164 Validation Accuracy: 0.39453125\n",
      "Epoch  3, CIFAR-10 Batch 1:  Loss: 1.6352152824401855 Validation Accuracy: 0.412109375\n",
      "Epoch  3, CIFAR-10 Batch 2:  Loss: 1.5300167798995972 Validation Accuracy: 0.4140625\n",
      "Epoch  3, CIFAR-10 Batch 3:  Loss: 1.3321378231048584 Validation Accuracy: 0.42578125\n",
      "Epoch  3, CIFAR-10 Batch 4:  Loss: 1.3969578742980957 Validation Accuracy: 0.443359375\n",
      "Epoch  3, CIFAR-10 Batch 5:  Loss: 1.4679360389709473 Validation Accuracy: 0.435546875\n",
      "Epoch  4, CIFAR-10 Batch 1:  Loss: 1.4959098100662231 Validation Accuracy: 0.46875\n",
      "Epoch  4, CIFAR-10 Batch 2:  Loss: 1.4578361511230469 Validation Accuracy: 0.4609375\n",
      "Epoch  4, CIFAR-10 Batch 3:  Loss: 1.260283350944519 Validation Accuracy: 0.47265625\n",
      "Epoch  4, CIFAR-10 Batch 4:  Loss: 1.316680908203125 Validation Accuracy: 0.47265625\n",
      "Epoch  4, CIFAR-10 Batch 5:  Loss: 1.3778802156448364 Validation Accuracy: 0.453125\n",
      "Epoch  5, CIFAR-10 Batch 1:  Loss: 1.418260931968689 Validation Accuracy: 0.486328125\n",
      "Epoch  5, CIFAR-10 Batch 2:  Loss: 1.3619555234909058 Validation Accuracy: 0.5078125\n",
      "Epoch  5, CIFAR-10 Batch 3:  Loss: 1.1956980228424072 Validation Accuracy: 0.490234375\n",
      "Epoch  5, CIFAR-10 Batch 4:  Loss: 1.2404289245605469 Validation Accuracy: 0.48828125\n",
      "Epoch  5, CIFAR-10 Batch 5:  Loss: 1.3022315502166748 Validation Accuracy: 0.484375\n",
      "Epoch  6, CIFAR-10 Batch 1:  Loss: 1.3570103645324707 Validation Accuracy: 0.490234375\n",
      "Epoch  6, CIFAR-10 Batch 2:  Loss: 1.2877264022827148 Validation Accuracy: 0.509765625\n",
      "Epoch  6, CIFAR-10 Batch 3:  Loss: 1.1550133228302002 Validation Accuracy: 0.484375\n",
      "Epoch  6, CIFAR-10 Batch 4:  Loss: 1.1683237552642822 Validation Accuracy: 0.5078125\n",
      "Epoch  6, CIFAR-10 Batch 5:  Loss: 1.240100383758545 Validation Accuracy: 0.498046875\n",
      "Epoch  7, CIFAR-10 Batch 1:  Loss: 1.2816240787506104 Validation Accuracy: 0.5234375\n",
      "Epoch  7, CIFAR-10 Batch 2:  Loss: 1.2333115339279175 Validation Accuracy: 0.51953125\n",
      "Epoch  7, CIFAR-10 Batch 3:  Loss: 1.1146643161773682 Validation Accuracy: 0.494140625\n",
      "Epoch  7, CIFAR-10 Batch 4:  Loss: 1.144162654876709 Validation Accuracy: 0.537109375\n",
      "Epoch  7, CIFAR-10 Batch 5:  Loss: 1.1808005571365356 Validation Accuracy: 0.517578125\n",
      "Epoch  8, CIFAR-10 Batch 1:  Loss: 1.2362056970596313 Validation Accuracy: 0.533203125\n",
      "Epoch  8, CIFAR-10 Batch 2:  Loss: 1.1871812343597412 Validation Accuracy: 0.54296875\n",
      "Epoch  8, CIFAR-10 Batch 3:  Loss: 1.0908536911010742 Validation Accuracy: 0.5234375\n",
      "Epoch  8, CIFAR-10 Batch 4:  Loss: 1.097015619277954 Validation Accuracy: 0.556640625\n",
      "Epoch  8, CIFAR-10 Batch 5:  Loss: 1.1410480737686157 Validation Accuracy: 0.529296875\n",
      "Epoch  9, CIFAR-10 Batch 1:  Loss: 1.184468150138855 Validation Accuracy: 0.552734375\n",
      "Epoch  9, CIFAR-10 Batch 2:  Loss: 1.1518086194992065 Validation Accuracy: 0.5546875\n",
      "Epoch  9, CIFAR-10 Batch 3:  Loss: 1.067166805267334 Validation Accuracy: 0.5625\n",
      "Epoch  9, CIFAR-10 Batch 4:  Loss: 1.0339388847351074 Validation Accuracy: 0.568359375\n",
      "Epoch  9, CIFAR-10 Batch 5:  Loss: 1.0839903354644775 Validation Accuracy: 0.55859375\n",
      "Epoch 10, CIFAR-10 Batch 1:  Loss: 1.1659096479415894 Validation Accuracy: 0.5625\n",
      "Epoch 10, CIFAR-10 Batch 2:  Loss: 1.1056143045425415 Validation Accuracy: 0.568359375\n",
      "Epoch 10, CIFAR-10 Batch 3:  Loss: 0.9960906505584717 Validation Accuracy: 0.5625\n",
      "Epoch 10, CIFAR-10 Batch 4:  Loss: 0.9970518350601196 Validation Accuracy: 0.57421875\n",
      "Epoch 10, CIFAR-10 Batch 5:  Loss: 1.0456749200820923 Validation Accuracy: 0.5625\n",
      "Epoch 11, CIFAR-10 Batch 1:  Loss: 1.1116197109222412 Validation Accuracy: 0.578125\n",
      "Epoch 11, CIFAR-10 Batch 2:  Loss: 1.0839958190917969 Validation Accuracy: 0.583984375\n",
      "Epoch 11, CIFAR-10 Batch 3:  Loss: 0.9626051187515259 Validation Accuracy: 0.57421875\n",
      "Epoch 11, CIFAR-10 Batch 4:  Loss: 0.9779106974601746 Validation Accuracy: 0.583984375\n",
      "Epoch 11, CIFAR-10 Batch 5:  Loss: 1.014120101928711 Validation Accuracy: 0.57421875\n",
      "Epoch 12, CIFAR-10 Batch 1:  Loss: 1.068040370941162 Validation Accuracy: 0.595703125\n",
      "Epoch 12, CIFAR-10 Batch 2:  Loss: 1.0556602478027344 Validation Accuracy: 0.591796875\n",
      "Epoch 12, CIFAR-10 Batch 3:  Loss: 0.9261096715927124 Validation Accuracy: 0.587890625\n",
      "Epoch 12, CIFAR-10 Batch 4:  Loss: 0.9609577655792236 Validation Accuracy: 0.595703125\n",
      "Epoch 12, CIFAR-10 Batch 5:  Loss: 0.9796254634857178 Validation Accuracy: 0.587890625\n",
      "Epoch 13, CIFAR-10 Batch 1:  Loss: 1.0463147163391113 Validation Accuracy: 0.6015625\n",
      "Epoch 13, CIFAR-10 Batch 2:  Loss: 1.049302101135254 Validation Accuracy: 0.59375\n",
      "Epoch 13, CIFAR-10 Batch 3:  Loss: 0.8898283243179321 Validation Accuracy: 0.58203125\n",
      "Epoch 13, CIFAR-10 Batch 4:  Loss: 0.9286625385284424 Validation Accuracy: 0.587890625\n",
      "Epoch 13, CIFAR-10 Batch 5:  Loss: 0.9484125375747681 Validation Accuracy: 0.5859375\n",
      "Epoch 14, CIFAR-10 Batch 1:  Loss: 1.0198951959609985 Validation Accuracy: 0.609375\n",
      "Epoch 14, CIFAR-10 Batch 2:  Loss: 1.0157026052474976 Validation Accuracy: 0.60546875\n",
      "Epoch 14, CIFAR-10 Batch 3:  Loss: 0.8691146373748779 Validation Accuracy: 0.572265625\n",
      "Epoch 14, CIFAR-10 Batch 4:  Loss: 0.895712673664093 Validation Accuracy: 0.59765625\n",
      "Epoch 14, CIFAR-10 Batch 5:  Loss: 0.9188008308410645 Validation Accuracy: 0.591796875\n",
      "Epoch 15, CIFAR-10 Batch 1:  Loss: 0.9830774664878845 Validation Accuracy: 0.611328125\n",
      "Epoch 15, CIFAR-10 Batch 2:  Loss: 0.997994065284729 Validation Accuracy: 0.6171875\n",
      "Epoch 15, CIFAR-10 Batch 3:  Loss: 0.85152667760849 Validation Accuracy: 0.59765625\n",
      "Epoch 15, CIFAR-10 Batch 4:  Loss: 0.8615156412124634 Validation Accuracy: 0.61328125\n",
      "Epoch 15, CIFAR-10 Batch 5:  Loss: 0.8738178014755249 Validation Accuracy: 0.607421875\n",
      "Epoch 16, CIFAR-10 Batch 1:  Loss: 0.949679434299469 Validation Accuracy: 0.615234375\n",
      "Epoch 16, CIFAR-10 Batch 2:  Loss: 0.968243420124054 Validation Accuracy: 0.625\n",
      "Epoch 16, CIFAR-10 Batch 3:  Loss: 0.8282244801521301 Validation Accuracy: 0.595703125\n",
      "Epoch 16, CIFAR-10 Batch 4:  Loss: 0.8475965261459351 Validation Accuracy: 0.62890625\n",
      "Epoch 16, CIFAR-10 Batch 5:  Loss: 0.850148618221283 Validation Accuracy: 0.619140625\n",
      "Epoch 17, CIFAR-10 Batch 1:  Loss: 0.9352829456329346 Validation Accuracy: 0.625\n",
      "Epoch 17, CIFAR-10 Batch 2:  Loss: 0.9547842741012573 Validation Accuracy: 0.634765625\n",
      "Epoch 17, CIFAR-10 Batch 3:  Loss: 0.8118831515312195 Validation Accuracy: 0.6015625\n",
      "Epoch 17, CIFAR-10 Batch 4:  Loss: 0.8238937258720398 Validation Accuracy: 0.611328125\n",
      "Epoch 17, CIFAR-10 Batch 5:  Loss: 0.833208441734314 Validation Accuracy: 0.619140625\n",
      "Epoch 18, CIFAR-10 Batch 1:  Loss: 0.9034150838851929 Validation Accuracy: 0.62109375\n",
      "Epoch 18, CIFAR-10 Batch 2:  Loss: 0.9319757223129272 Validation Accuracy: 0.638671875\n",
      "Epoch 18, CIFAR-10 Batch 3:  Loss: 0.7765272855758667 Validation Accuracy: 0.603515625\n",
      "Epoch 18, CIFAR-10 Batch 4:  Loss: 0.8074368834495544 Validation Accuracy: 0.615234375\n",
      "Epoch 18, CIFAR-10 Batch 5:  Loss: 0.802667498588562 Validation Accuracy: 0.625\n",
      "Epoch 19, CIFAR-10 Batch 1:  Loss: 0.8879488110542297 Validation Accuracy: 0.62890625\n",
      "Epoch 19, CIFAR-10 Batch 2:  Loss: 0.9219839572906494 Validation Accuracy: 0.642578125\n",
      "Epoch 19, CIFAR-10 Batch 3:  Loss: 0.7644101977348328 Validation Accuracy: 0.607421875\n",
      "Epoch 19, CIFAR-10 Batch 4:  Loss: 0.7917542457580566 Validation Accuracy: 0.61328125\n",
      "Epoch 19, CIFAR-10 Batch 5:  Loss: 0.7951099276542664 Validation Accuracy: 0.625\n",
      "Epoch 20, CIFAR-10 Batch 1:  Loss: 0.859843909740448 Validation Accuracy: 0.62890625\n"
     ]
    },
    {
     "name": "stdout",
     "output_type": "stream",
     "text": [
      "Epoch 20, CIFAR-10 Batch 2:  Loss: 0.8773765563964844 Validation Accuracy: 0.65234375\n",
      "Epoch 20, CIFAR-10 Batch 3:  Loss: 0.7330131530761719 Validation Accuracy: 0.615234375\n",
      "Epoch 20, CIFAR-10 Batch 4:  Loss: 0.7917156219482422 Validation Accuracy: 0.615234375\n",
      "Epoch 20, CIFAR-10 Batch 5:  Loss: 0.7751041650772095 Validation Accuracy: 0.638671875\n",
      "Epoch 21, CIFAR-10 Batch 1:  Loss: 0.8411970138549805 Validation Accuracy: 0.62890625\n",
      "Epoch 21, CIFAR-10 Batch 2:  Loss: 0.8905455470085144 Validation Accuracy: 0.630859375\n",
      "Epoch 21, CIFAR-10 Batch 3:  Loss: 0.7091881632804871 Validation Accuracy: 0.619140625\n",
      "Epoch 21, CIFAR-10 Batch 4:  Loss: 0.7705798149108887 Validation Accuracy: 0.634765625\n",
      "Epoch 21, CIFAR-10 Batch 5:  Loss: 0.740945041179657 Validation Accuracy: 0.6328125\n",
      "Epoch 22, CIFAR-10 Batch 1:  Loss: 0.8237161636352539 Validation Accuracy: 0.634765625\n",
      "Epoch 22, CIFAR-10 Batch 2:  Loss: 0.8704664707183838 Validation Accuracy: 0.634765625\n",
      "Epoch 22, CIFAR-10 Batch 3:  Loss: 0.695601761341095 Validation Accuracy: 0.634765625\n",
      "Epoch 22, CIFAR-10 Batch 4:  Loss: 0.7480503916740417 Validation Accuracy: 0.642578125\n",
      "Epoch 22, CIFAR-10 Batch 5:  Loss: 0.7285053133964539 Validation Accuracy: 0.640625\n",
      "Epoch 23, CIFAR-10 Batch 1:  Loss: 0.7968446016311646 Validation Accuracy: 0.64453125\n",
      "Epoch 23, CIFAR-10 Batch 2:  Loss: 0.8628663420677185 Validation Accuracy: 0.638671875\n",
      "Epoch 23, CIFAR-10 Batch 3:  Loss: 0.6678459644317627 Validation Accuracy: 0.634765625\n",
      "Epoch 23, CIFAR-10 Batch 4:  Loss: 0.7526167631149292 Validation Accuracy: 0.64453125\n",
      "Epoch 23, CIFAR-10 Batch 5:  Loss: 0.7269635796546936 Validation Accuracy: 0.640625\n",
      "Epoch 24, CIFAR-10 Batch 1:  Loss: 0.798628568649292 Validation Accuracy: 0.6484375\n",
      "Epoch 24, CIFAR-10 Batch 2:  Loss: 0.8273405432701111 Validation Accuracy: 0.658203125\n",
      "Epoch 24, CIFAR-10 Batch 3:  Loss: 0.6586530804634094 Validation Accuracy: 0.625\n",
      "Epoch 24, CIFAR-10 Batch 4:  Loss: 0.718701183795929 Validation Accuracy: 0.640625\n",
      "Epoch 24, CIFAR-10 Batch 5:  Loss: 0.7044472098350525 Validation Accuracy: 0.64453125\n",
      "Epoch 25, CIFAR-10 Batch 1:  Loss: 0.7872461080551147 Validation Accuracy: 0.65234375\n",
      "Epoch 25, CIFAR-10 Batch 2:  Loss: 0.7911980152130127 Validation Accuracy: 0.650390625\n",
      "Epoch 25, CIFAR-10 Batch 3:  Loss: 0.6492289900779724 Validation Accuracy: 0.619140625\n",
      "Epoch 25, CIFAR-10 Batch 4:  Loss: 0.6785242557525635 Validation Accuracy: 0.62890625\n",
      "Epoch 25, CIFAR-10 Batch 5:  Loss: 0.6952312588691711 Validation Accuracy: 0.63671875\n",
      "Epoch 26, CIFAR-10 Batch 1:  Loss: 0.7403391003608704 Validation Accuracy: 0.640625\n",
      "Epoch 26, CIFAR-10 Batch 2:  Loss: 0.7729647159576416 Validation Accuracy: 0.6640625\n",
      "Epoch 26, CIFAR-10 Batch 3:  Loss: 0.635398268699646 Validation Accuracy: 0.615234375\n",
      "Epoch 26, CIFAR-10 Batch 4:  Loss: 0.6650587916374207 Validation Accuracy: 0.64453125\n",
      "Epoch 26, CIFAR-10 Batch 5:  Loss: 0.6701878905296326 Validation Accuracy: 0.638671875\n",
      "Epoch 27, CIFAR-10 Batch 1:  Loss: 0.7443681955337524 Validation Accuracy: 0.630859375\n",
      "Epoch 27, CIFAR-10 Batch 2:  Loss: 0.7558764815330505 Validation Accuracy: 0.6640625\n",
      "Epoch 27, CIFAR-10 Batch 3:  Loss: 0.6337054967880249 Validation Accuracy: 0.6171875\n",
      "Epoch 27, CIFAR-10 Batch 4:  Loss: 0.6465588212013245 Validation Accuracy: 0.64453125\n",
      "Epoch 27, CIFAR-10 Batch 5:  Loss: 0.667291522026062 Validation Accuracy: 0.638671875\n",
      "Epoch 28, CIFAR-10 Batch 1:  Loss: 0.7113686800003052 Validation Accuracy: 0.654296875\n",
      "Epoch 28, CIFAR-10 Batch 2:  Loss: 0.71792072057724 Validation Accuracy: 0.658203125\n",
      "Epoch 28, CIFAR-10 Batch 3:  Loss: 0.590671181678772 Validation Accuracy: 0.642578125\n",
      "Epoch 28, CIFAR-10 Batch 4:  Loss: 0.6251264214515686 Validation Accuracy: 0.66015625\n",
      "Epoch 28, CIFAR-10 Batch 5:  Loss: 0.6526439189910889 Validation Accuracy: 0.646484375\n",
      "Epoch 29, CIFAR-10 Batch 1:  Loss: 0.715071976184845 Validation Accuracy: 0.662109375\n",
      "Epoch 29, CIFAR-10 Batch 2:  Loss: 0.7064367532730103 Validation Accuracy: 0.66796875\n",
      "Epoch 29, CIFAR-10 Batch 3:  Loss: 0.5882217288017273 Validation Accuracy: 0.62109375\n",
      "Epoch 29, CIFAR-10 Batch 4:  Loss: 0.599736213684082 Validation Accuracy: 0.6640625\n",
      "Epoch 29, CIFAR-10 Batch 5:  Loss: 0.6259085536003113 Validation Accuracy: 0.642578125\n",
      "Epoch 30, CIFAR-10 Batch 1:  Loss: 0.676339328289032 Validation Accuracy: 0.671875\n",
      "Epoch 30, CIFAR-10 Batch 2:  Loss: 0.683648407459259 Validation Accuracy: 0.673828125\n",
      "Epoch 30, CIFAR-10 Batch 3:  Loss: 0.5678431987762451 Validation Accuracy: 0.646484375\n",
      "Epoch 30, CIFAR-10 Batch 4:  Loss: 0.5825261473655701 Validation Accuracy: 0.6640625\n",
      "Epoch 30, CIFAR-10 Batch 5:  Loss: 0.6205266714096069 Validation Accuracy: 0.66015625\n",
      "Epoch 31, CIFAR-10 Batch 1:  Loss: 0.6688786745071411 Validation Accuracy: 0.662109375\n",
      "Epoch 31, CIFAR-10 Batch 2:  Loss: 0.6719253659248352 Validation Accuracy: 0.66015625\n",
      "Epoch 31, CIFAR-10 Batch 3:  Loss: 0.5597141981124878 Validation Accuracy: 0.634765625\n",
      "Epoch 31, CIFAR-10 Batch 4:  Loss: 0.5806388854980469 Validation Accuracy: 0.677734375\n",
      "Epoch 31, CIFAR-10 Batch 5:  Loss: 0.5957309007644653 Validation Accuracy: 0.6640625\n",
      "Epoch 32, CIFAR-10 Batch 1:  Loss: 0.6499051451683044 Validation Accuracy: 0.658203125\n",
      "Epoch 32, CIFAR-10 Batch 2:  Loss: 0.6640182733535767 Validation Accuracy: 0.666015625\n",
      "Epoch 32, CIFAR-10 Batch 3:  Loss: 0.5664613246917725 Validation Accuracy: 0.623046875\n",
      "Epoch 32, CIFAR-10 Batch 4:  Loss: 0.5585235953330994 Validation Accuracy: 0.6640625\n",
      "Epoch 32, CIFAR-10 Batch 5:  Loss: 0.5940154790878296 Validation Accuracy: 0.662109375\n",
      "Epoch 33, CIFAR-10 Batch 1:  Loss: 0.6249654293060303 Validation Accuracy: 0.662109375\n",
      "Epoch 33, CIFAR-10 Batch 2:  Loss: 0.6709206104278564 Validation Accuracy: 0.6875\n",
      "Epoch 33, CIFAR-10 Batch 3:  Loss: 0.5327960848808289 Validation Accuracy: 0.63671875\n",
      "Epoch 33, CIFAR-10 Batch 4:  Loss: 0.5453547835350037 Validation Accuracy: 0.671875\n",
      "Epoch 33, CIFAR-10 Batch 5:  Loss: 0.5918252468109131 Validation Accuracy: 0.666015625\n",
      "Epoch 34, CIFAR-10 Batch 1:  Loss: 0.6347418427467346 Validation Accuracy: 0.658203125\n",
      "Epoch 34, CIFAR-10 Batch 2:  Loss: 0.6681559681892395 Validation Accuracy: 0.650390625\n",
      "Epoch 34, CIFAR-10 Batch 3:  Loss: 0.5116316676139832 Validation Accuracy: 0.6484375\n",
      "Epoch 34, CIFAR-10 Batch 4:  Loss: 0.5578007698059082 Validation Accuracy: 0.6796875\n",
      "Epoch 34, CIFAR-10 Batch 5:  Loss: 0.5764559507369995 Validation Accuracy: 0.669921875\n",
      "Epoch 35, CIFAR-10 Batch 1:  Loss: 0.6331053376197815 Validation Accuracy: 0.65625\n",
      "Epoch 35, CIFAR-10 Batch 2:  Loss: 0.7277128100395203 Validation Accuracy: 0.599609375\n",
      "Epoch 35, CIFAR-10 Batch 3:  Loss: 0.5283486843109131 Validation Accuracy: 0.66015625\n",
      "Epoch 35, CIFAR-10 Batch 4:  Loss: 0.5563981533050537 Validation Accuracy: 0.6640625\n",
      "Epoch 35, CIFAR-10 Batch 5:  Loss: 0.5737837553024292 Validation Accuracy: 0.669921875\n",
      "Epoch 36, CIFAR-10 Batch 1:  Loss: 0.6317235827445984 Validation Accuracy: 0.66015625\n",
      "Epoch 36, CIFAR-10 Batch 2:  Loss: 0.6957821846008301 Validation Accuracy: 0.607421875\n",
      "Epoch 36, CIFAR-10 Batch 3:  Loss: 0.5193766355514526 Validation Accuracy: 0.66796875\n",
      "Epoch 36, CIFAR-10 Batch 4:  Loss: 0.5561259984970093 Validation Accuracy: 0.658203125\n",
      "Epoch 36, CIFAR-10 Batch 5:  Loss: 0.5999883413314819 Validation Accuracy: 0.671875\n",
      "Epoch 37, CIFAR-10 Batch 1:  Loss: 0.6443691849708557 Validation Accuracy: 0.6640625\n",
      "Epoch 37, CIFAR-10 Batch 2:  Loss: 0.7726841568946838 Validation Accuracy: 0.580078125\n",
      "Epoch 37, CIFAR-10 Batch 3:  Loss: 0.5605946779251099 Validation Accuracy: 0.646484375\n",
      "Epoch 37, CIFAR-10 Batch 4:  Loss: 0.5693590044975281 Validation Accuracy: 0.64453125\n",
      "Epoch 37, CIFAR-10 Batch 5:  Loss: 0.5899670124053955 Validation Accuracy: 0.677734375\n",
      "Epoch 38, CIFAR-10 Batch 1:  Loss: 0.6001990437507629 Validation Accuracy: 0.66796875\n",
      "Epoch 38, CIFAR-10 Batch 2:  Loss: 0.679092526435852 Validation Accuracy: 0.638671875\n",
      "Epoch 38, CIFAR-10 Batch 3:  Loss: 0.5390996336936951 Validation Accuracy: 0.673828125\n",
      "Epoch 38, CIFAR-10 Batch 4:  Loss: 0.53825843334198 Validation Accuracy: 0.6640625\n",
      "Epoch 38, CIFAR-10 Batch 5:  Loss: 0.5687095522880554 Validation Accuracy: 0.673828125\n",
      "Epoch 39, CIFAR-10 Batch 1:  Loss: 0.5948655605316162 Validation Accuracy: 0.669921875\n",
      "Epoch 39, CIFAR-10 Batch 2:  Loss: 0.6664848327636719 Validation Accuracy: 0.66015625\n"
     ]
    },
    {
     "name": "stdout",
     "output_type": "stream",
     "text": [
      "Epoch 39, CIFAR-10 Batch 3:  Loss: 0.5278714895248413 Validation Accuracy: 0.65234375\n",
      "Epoch 39, CIFAR-10 Batch 4:  Loss: 0.5101841688156128 Validation Accuracy: 0.669921875\n",
      "Epoch 39, CIFAR-10 Batch 5:  Loss: 0.5614245533943176 Validation Accuracy: 0.671875\n",
      "Epoch 40, CIFAR-10 Batch 1:  Loss: 0.5581154823303223 Validation Accuracy: 0.671875\n",
      "Epoch 40, CIFAR-10 Batch 2:  Loss: 0.6311224102973938 Validation Accuracy: 0.6640625\n",
      "Epoch 40, CIFAR-10 Batch 3:  Loss: 0.4938930571079254 Validation Accuracy: 0.671875\n",
      "Epoch 40, CIFAR-10 Batch 4:  Loss: 0.49726712703704834 Validation Accuracy: 0.662109375\n",
      "Epoch 40, CIFAR-10 Batch 5:  Loss: 0.5553927421569824 Validation Accuracy: 0.68359375\n",
      "Epoch 41, CIFAR-10 Batch 1:  Loss: 0.5645456910133362 Validation Accuracy: 0.65625\n",
      "Epoch 41, CIFAR-10 Batch 2:  Loss: 0.6227644085884094 Validation Accuracy: 0.658203125\n",
      "Epoch 41, CIFAR-10 Batch 3:  Loss: 0.5035611391067505 Validation Accuracy: 0.6875\n",
      "Epoch 41, CIFAR-10 Batch 4:  Loss: 0.49514132738113403 Validation Accuracy: 0.669921875\n",
      "Epoch 41, CIFAR-10 Batch 5:  Loss: 0.5907860398292542 Validation Accuracy: 0.66015625\n",
      "Epoch 42, CIFAR-10 Batch 1:  Loss: 0.5304455757141113 Validation Accuracy: 0.673828125\n",
      "Epoch 42, CIFAR-10 Batch 2:  Loss: 0.5935010313987732 Validation Accuracy: 0.6875\n",
      "Epoch 42, CIFAR-10 Batch 3:  Loss: 0.468738853931427 Validation Accuracy: 0.697265625\n",
      "Epoch 42, CIFAR-10 Batch 4:  Loss: 0.49208301305770874 Validation Accuracy: 0.66015625\n",
      "Epoch 42, CIFAR-10 Batch 5:  Loss: 0.5779116153717041 Validation Accuracy: 0.6640625\n",
      "Epoch 43, CIFAR-10 Batch 1:  Loss: 0.5310999155044556 Validation Accuracy: 0.673828125\n",
      "Epoch 43, CIFAR-10 Batch 2:  Loss: 0.6017025709152222 Validation Accuracy: 0.6796875\n",
      "Epoch 43, CIFAR-10 Batch 3:  Loss: 0.4687288999557495 Validation Accuracy: 0.671875\n",
      "Epoch 43, CIFAR-10 Batch 4:  Loss: 0.4886297881603241 Validation Accuracy: 0.658203125\n",
      "Epoch 43, CIFAR-10 Batch 5:  Loss: 0.5715486407279968 Validation Accuracy: 0.65625\n",
      "Epoch 44, CIFAR-10 Batch 1:  Loss: 0.5257055163383484 Validation Accuracy: 0.67578125\n",
      "Epoch 44, CIFAR-10 Batch 2:  Loss: 0.6168927550315857 Validation Accuracy: 0.671875\n",
      "Epoch 44, CIFAR-10 Batch 3:  Loss: 0.476887583732605 Validation Accuracy: 0.671875\n",
      "Epoch 44, CIFAR-10 Batch 4:  Loss: 0.5124906897544861 Validation Accuracy: 0.630859375\n",
      "Epoch 44, CIFAR-10 Batch 5:  Loss: 0.5338316559791565 Validation Accuracy: 0.654296875\n",
      "Epoch 45, CIFAR-10 Batch 1:  Loss: 0.5219355821609497 Validation Accuracy: 0.66796875\n",
      "Epoch 45, CIFAR-10 Batch 2:  Loss: 0.5887961387634277 Validation Accuracy: 0.67578125\n",
      "Epoch 45, CIFAR-10 Batch 3:  Loss: 0.4692944884300232 Validation Accuracy: 0.677734375\n",
      "Epoch 45, CIFAR-10 Batch 4:  Loss: 0.4816880226135254 Validation Accuracy: 0.666015625\n",
      "Epoch 45, CIFAR-10 Batch 5:  Loss: 0.5547956228256226 Validation Accuracy: 0.65625\n",
      "Epoch 46, CIFAR-10 Batch 1:  Loss: 0.5221227407455444 Validation Accuracy: 0.6796875\n",
      "Epoch 46, CIFAR-10 Batch 2:  Loss: 0.6168949604034424 Validation Accuracy: 0.67578125\n",
      "Epoch 46, CIFAR-10 Batch 3:  Loss: 0.4548998475074768 Validation Accuracy: 0.685546875\n",
      "Epoch 46, CIFAR-10 Batch 4:  Loss: 0.4836626648902893 Validation Accuracy: 0.66796875\n",
      "Epoch 46, CIFAR-10 Batch 5:  Loss: 0.5771358013153076 Validation Accuracy: 0.66796875\n",
      "Epoch 47, CIFAR-10 Batch 1:  Loss: 0.5633059740066528 Validation Accuracy: 0.681640625\n",
      "Epoch 47, CIFAR-10 Batch 2:  Loss: 0.6059709787368774 Validation Accuracy: 0.666015625\n",
      "Epoch 47, CIFAR-10 Batch 3:  Loss: 0.4402100443840027 Validation Accuracy: 0.6875\n",
      "Epoch 47, CIFAR-10 Batch 4:  Loss: 0.47659268975257874 Validation Accuracy: 0.671875\n",
      "Epoch 47, CIFAR-10 Batch 5:  Loss: 0.5211094617843628 Validation Accuracy: 0.6953125\n",
      "Epoch 48, CIFAR-10 Batch 1:  Loss: 0.51600581407547 Validation Accuracy: 0.66015625\n",
      "Epoch 48, CIFAR-10 Batch 2:  Loss: 0.6045182347297668 Validation Accuracy: 0.66796875\n",
      "Epoch 48, CIFAR-10 Batch 3:  Loss: 0.43168652057647705 Validation Accuracy: 0.6875\n",
      "Epoch 48, CIFAR-10 Batch 4:  Loss: 0.4620131850242615 Validation Accuracy: 0.673828125\n",
      "Epoch 48, CIFAR-10 Batch 5:  Loss: 0.501114547252655 Validation Accuracy: 0.677734375\n",
      "Epoch 49, CIFAR-10 Batch 1:  Loss: 0.4967941641807556 Validation Accuracy: 0.6640625\n",
      "Epoch 49, CIFAR-10 Batch 2:  Loss: 0.5674187541007996 Validation Accuracy: 0.677734375\n",
      "Epoch 49, CIFAR-10 Batch 3:  Loss: 0.4246724545955658 Validation Accuracy: 0.673828125\n",
      "Epoch 49, CIFAR-10 Batch 4:  Loss: 0.44658541679382324 Validation Accuracy: 0.671875\n",
      "Epoch 49, CIFAR-10 Batch 5:  Loss: 0.48669523000717163 Validation Accuracy: 0.6796875\n",
      "Epoch 50, CIFAR-10 Batch 1:  Loss: 0.5035108923912048 Validation Accuracy: 0.666015625\n",
      "Epoch 50, CIFAR-10 Batch 2:  Loss: 0.5524916052818298 Validation Accuracy: 0.67578125\n",
      "Epoch 50, CIFAR-10 Batch 3:  Loss: 0.41391459107398987 Validation Accuracy: 0.677734375\n",
      "Epoch 50, CIFAR-10 Batch 4:  Loss: 0.42965781688690186 Validation Accuracy: 0.6875\n",
      "Epoch 50, CIFAR-10 Batch 5:  Loss: 0.4708496928215027 Validation Accuracy: 0.662109375\n",
      "Epoch 51, CIFAR-10 Batch 1:  Loss: 0.46897733211517334 Validation Accuracy: 0.677734375\n",
      "Epoch 51, CIFAR-10 Batch 2:  Loss: 0.529556155204773 Validation Accuracy: 0.658203125\n",
      "Epoch 51, CIFAR-10 Batch 3:  Loss: 0.3976418077945709 Validation Accuracy: 0.6953125\n",
      "Epoch 51, CIFAR-10 Batch 4:  Loss: 0.41211843490600586 Validation Accuracy: 0.689453125\n",
      "Epoch 51, CIFAR-10 Batch 5:  Loss: 0.4538190960884094 Validation Accuracy: 0.685546875\n",
      "Epoch 52, CIFAR-10 Batch 1:  Loss: 0.4583062529563904 Validation Accuracy: 0.671875\n",
      "Epoch 52, CIFAR-10 Batch 2:  Loss: 0.5342358350753784 Validation Accuracy: 0.6796875\n",
      "Epoch 52, CIFAR-10 Batch 3:  Loss: 0.39002832770347595 Validation Accuracy: 0.693359375\n",
      "Epoch 52, CIFAR-10 Batch 4:  Loss: 0.40793412923812866 Validation Accuracy: 0.689453125\n",
      "Epoch 52, CIFAR-10 Batch 5:  Loss: 0.4413309097290039 Validation Accuracy: 0.673828125\n",
      "Epoch 53, CIFAR-10 Batch 1:  Loss: 0.43875086307525635 Validation Accuracy: 0.681640625\n",
      "Epoch 53, CIFAR-10 Batch 2:  Loss: 0.5098029971122742 Validation Accuracy: 0.669921875\n",
      "Epoch 53, CIFAR-10 Batch 3:  Loss: 0.3794451951980591 Validation Accuracy: 0.6875\n",
      "Epoch 53, CIFAR-10 Batch 4:  Loss: 0.3840683102607727 Validation Accuracy: 0.69921875\n",
      "Epoch 53, CIFAR-10 Batch 5:  Loss: 0.4386816620826721 Validation Accuracy: 0.662109375\n",
      "Epoch 54, CIFAR-10 Batch 1:  Loss: 0.42378926277160645 Validation Accuracy: 0.681640625\n",
      "Epoch 54, CIFAR-10 Batch 2:  Loss: 0.47873327136039734 Validation Accuracy: 0.6796875\n",
      "Epoch 54, CIFAR-10 Batch 3:  Loss: 0.3822765350341797 Validation Accuracy: 0.681640625\n",
      "Epoch 54, CIFAR-10 Batch 4:  Loss: 0.3912833631038666 Validation Accuracy: 0.68359375\n",
      "Epoch 54, CIFAR-10 Batch 5:  Loss: 0.431895911693573 Validation Accuracy: 0.67578125\n",
      "Epoch 55, CIFAR-10 Batch 1:  Loss: 0.40831199288368225 Validation Accuracy: 0.69140625\n",
      "Epoch 55, CIFAR-10 Batch 2:  Loss: 0.4869680106639862 Validation Accuracy: 0.685546875\n",
      "Epoch 55, CIFAR-10 Batch 3:  Loss: 0.36361438035964966 Validation Accuracy: 0.68359375\n",
      "Epoch 55, CIFAR-10 Batch 4:  Loss: 0.38989368081092834 Validation Accuracy: 0.685546875\n",
      "Epoch 55, CIFAR-10 Batch 5:  Loss: 0.4314010739326477 Validation Accuracy: 0.673828125\n",
      "Epoch 56, CIFAR-10 Batch 1:  Loss: 0.40612053871154785 Validation Accuracy: 0.6953125\n",
      "Epoch 56, CIFAR-10 Batch 2:  Loss: 0.4801425039768219 Validation Accuracy: 0.681640625\n",
      "Epoch 56, CIFAR-10 Batch 3:  Loss: 0.3852994441986084 Validation Accuracy: 0.685546875\n",
      "Epoch 56, CIFAR-10 Batch 4:  Loss: 0.3889502286911011 Validation Accuracy: 0.693359375\n",
      "Epoch 56, CIFAR-10 Batch 5:  Loss: 0.4230680763721466 Validation Accuracy: 0.685546875\n",
      "Epoch 57, CIFAR-10 Batch 1:  Loss: 0.40003615617752075 Validation Accuracy: 0.6875\n",
      "Epoch 57, CIFAR-10 Batch 2:  Loss: 0.46596819162368774 Validation Accuracy: 0.685546875\n",
      "Epoch 57, CIFAR-10 Batch 3:  Loss: 0.3782695233821869 Validation Accuracy: 0.689453125\n",
      "Epoch 57, CIFAR-10 Batch 4:  Loss: 0.3953022360801697 Validation Accuracy: 0.677734375\n",
      "Epoch 57, CIFAR-10 Batch 5:  Loss: 0.4260658919811249 Validation Accuracy: 0.67578125\n",
      "Epoch 58, CIFAR-10 Batch 1:  Loss: 0.40535813570022583 Validation Accuracy: 0.705078125\n",
      "Epoch 58, CIFAR-10 Batch 2:  Loss: 0.46071624755859375 Validation Accuracy: 0.6640625\n",
      "Epoch 58, CIFAR-10 Batch 3:  Loss: 0.3640584945678711 Validation Accuracy: 0.6796875\n"
     ]
    },
    {
     "name": "stdout",
     "output_type": "stream",
     "text": [
      "Epoch 58, CIFAR-10 Batch 4:  Loss: 0.3888891935348511 Validation Accuracy: 0.693359375\n",
      "Epoch 58, CIFAR-10 Batch 5:  Loss: 0.4245573580265045 Validation Accuracy: 0.6640625\n",
      "Epoch 59, CIFAR-10 Batch 1:  Loss: 0.41172027587890625 Validation Accuracy: 0.701171875\n",
      "Epoch 59, CIFAR-10 Batch 2:  Loss: 0.4386975169181824 Validation Accuracy: 0.6640625\n",
      "Epoch 59, CIFAR-10 Batch 3:  Loss: 0.3453386723995209 Validation Accuracy: 0.685546875\n",
      "Epoch 59, CIFAR-10 Batch 4:  Loss: 0.38202735781669617 Validation Accuracy: 0.701171875\n",
      "Epoch 59, CIFAR-10 Batch 5:  Loss: 0.4049965739250183 Validation Accuracy: 0.677734375\n",
      "Epoch 60, CIFAR-10 Batch 1:  Loss: 0.42068105936050415 Validation Accuracy: 0.689453125\n",
      "Epoch 60, CIFAR-10 Batch 2:  Loss: 0.43754297494888306 Validation Accuracy: 0.6875\n",
      "Epoch 60, CIFAR-10 Batch 3:  Loss: 0.34829598665237427 Validation Accuracy: 0.68359375\n",
      "Epoch 60, CIFAR-10 Batch 4:  Loss: 0.37674176692962646 Validation Accuracy: 0.673828125\n",
      "Epoch 60, CIFAR-10 Batch 5:  Loss: 0.4317013621330261 Validation Accuracy: 0.681640625\n"
     ]
    }
   ],
   "source": [
    "\"\"\"\n",
    "DON'T MODIFY ANYTHING IN THIS CELL\n",
    "\"\"\"\n",
    "save_model_path = './image_classification'\n",
    "\n",
    "print('Training...')\n",
    "with tf.Session() as sess:\n",
    "    # Initializing the variables\n",
    "    sess.run(tf.global_variables_initializer())\n",
    "    \n",
    "    # Training cycle\n",
    "    for epoch in range(epochs):\n",
    "        # Loop over all batches\n",
    "        n_batches = 5\n",
    "        for batch_i in range(1, n_batches + 1):\n",
    "            for batch_features, batch_labels in helper.load_preprocess_training_batch(batch_i, batch_size):\n",
    "                train_neural_network(sess, optimizer, keep_probability, batch_features, batch_labels)\n",
    "            print('Epoch {:>2}, CIFAR-10 Batch {}:  '.format(epoch + 1, batch_i), end='')\n",
    "            print_stats(sess, batch_features, batch_labels, cost, accuracy)\n",
    "            \n",
    "    # Save Model\n",
    "    saver = tf.train.Saver()\n",
    "    save_path = saver.save(sess, save_model_path)"
   ]
  },
  {
   "cell_type": "markdown",
   "metadata": {},
   "source": [
    "# Checkpoint\n",
    "The model has been saved to disk.\n",
    "## Test Model\n",
    "Test your model against the test dataset.  This will be your final accuracy. You should have an accuracy greater than 50%. If you don't, keep tweaking the model architecture and parameters."
   ]
  },
  {
   "cell_type": "code",
   "execution_count": 31,
   "metadata": {},
   "outputs": [
    {
     "name": "stdout",
     "output_type": "stream",
     "text": [
      "INFO:tensorflow:Restoring parameters from ./image_classification\n",
      "Testing Accuracy: 0.6586569428443909\n",
      "\n"
     ]
    },
    {
     "data": {
      "image/png": "[encoded data removed]",
      "text/plain": [
       "<matplotlib.figure.Figure at 0x7efdf06ec588>"
      ]
     },
     "metadata": {
      "image/png": {
       "height": 319,
       "width": 355
      }
     },
     "output_type": "display_data"
    }
   ],
   "source": [
    "\"\"\"\n",
    "DON'T MODIFY ANYTHING IN THIS CELL\n",
    "\"\"\"\n",
    "%matplotlib inline\n",
    "%config InlineBackend.figure_format = 'retina'\n",
    "\n",
    "import tensorflow as tf\n",
    "import pickle\n",
    "import helper\n",
    "import random\n",
    "\n",
    "# Set batch size if not already set\n",
    "try:\n",
    "    if batch_size:\n",
    "        pass\n",
    "except NameError:\n",
    "    batch_size = 64\n",
    "\n",
    "save_model_path = './image_classification'\n",
    "n_samples = 4\n",
    "top_n_predictions = 3\n",
    "\n",
    "def test_model():\n",
    "    \"\"\"\n",
    "    Test the saved model against the test dataset\n",
    "    \"\"\"\n",
    "\n",
    "    test_features, test_labels = pickle.load(open('preprocess_test.p', mode='rb'))\n",
    "    loaded_graph = tf.Graph()\n",
    "\n",
    "    with tf.Session(graph=loaded_graph) as sess:\n",
    "        # Load model\n",
    "        loader = tf.train.import_meta_graph(save_model_path + '.meta')\n",
    "        loader.restore(sess, save_model_path)\n",
    "\n",
    "        # Get Tensors from loaded model\n",
    "        loaded_x = loaded_graph.get_tensor_by_name('x:0')\n",
    "        loaded_y = loaded_graph.get_tensor_by_name('y:0')\n",
    "        loaded_keep_prob = loaded_graph.get_tensor_by_name('keep_prob:0')\n",
    "        loaded_logits = loaded_graph.get_tensor_by_name('logits:0')\n",
    "        loaded_acc = loaded_graph.get_tensor_by_name('accuracy:0')\n",
    "        \n",
    "        # Get accuracy in batches for memory limitations\n",
    "        test_batch_acc_total = 0\n",
    "        test_batch_count = 0\n",
    "        \n",
    "        for test_feature_batch, test_label_batch in helper.batch_features_labels(test_features, test_labels, batch_size):\n",
    "            test_batch_acc_total += sess.run(\n",
    "                loaded_acc,\n",
    "                feed_dict={loaded_x: test_feature_batch, loaded_y: test_label_batch, loaded_keep_prob: 1.0})\n",
    "            test_batch_count += 1\n",
    "\n",
    "        print('Testing Accuracy: {}\\n'.format(test_batch_acc_total/test_batch_count))\n",
    "\n",
    "        # Print Random Samples\n",
    "        random_test_features, random_test_labels = tuple(zip(*random.sample(list(zip(test_features, test_labels)), n_samples)))\n",
    "        random_test_predictions = sess.run(\n",
    "            tf.nn.top_k(tf.nn.softmax(loaded_logits), top_n_predictions),\n",
    "            feed_dict={loaded_x: random_test_features, loaded_y: random_test_labels, loaded_keep_prob: 1.0})\n",
    "        helper.display_image_predictions(random_test_features, random_test_labels, random_test_predictions)\n",
    "\n",
    "\n",
    "test_model()"
   ]
  },
  {
   "cell_type": "markdown",
   "metadata": {},
   "source": [
    "## Why 50-80% Accuracy?\n",
    "You might be wondering why you can't get an accuracy any higher. First things first, 50% isn't bad for a simple CNN.  Pure guessing would get you 10% accuracy. However, you might notice people are getting scores [well above 80%](http://rodrigob.github.io/are_we_there_yet/build/classification_datasets_results.html#43494641522d3130).  That's because we haven't taught you all there is to know about neural networks. We still need to cover a few more techniques.\n",
    "## Submitting This Project\n",
    "When submitting this project, make sure to run all the cells before saving the notebook.  Save the notebook file as \"dlnd_image_classification.ipynb\" and save it as a HTML file under \"File\" -> \"Download as\".  Include the \"helper.py\" and \"problem_unittests.py\" files in your submission."
   ]
  }
 ],
 "metadata": {
  "kernelspec": {
   "display_name": "Python 3",
   "language": "python",
   "name": "python3"
  },
  "language_info": {
   "codemirror_mode": {
    "name": "ipython",
    "version": 3
   },
   "file_extension": ".py",
   "mimetype": "text/x-python",
   "name": "python",
   "nbconvert_exporter": "python",
   "pygments_lexer": "ipython3",
   "version": "3.5.3"
  }
 },
 "nbformat": 4,
 "nbformat_minor": 1
}
