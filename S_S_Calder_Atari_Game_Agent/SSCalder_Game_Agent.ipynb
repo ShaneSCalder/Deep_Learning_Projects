{
 "cells": [
  {
   "cell_type": "markdown",
   "metadata": {},
   "source": [
    "Wellcome to my OpenAI Gym Agent"
   ]
  },
  {
   "cell_type": "markdown",
   "metadata": {},
   "source": [
    "I used the OpenAI Gym to train my agent bot. (https://gym.openai.com)\n",
    "This python code can be used with any Atari game on openai.com"
   ]
  },
  {
   "cell_type": "code",
   "execution_count": 3,
   "metadata": {},
   "outputs": [
    {
     "name": "stderr",
     "output_type": "stream",
     "text": [
      "[2017-08-16 12:52:41,630] Making new env: SpaceInvaders-v0\n"
     ]
    }
   ],
   "source": [
    "# Initialization: \n",
    "\n",
    "from keras.models import Sequential \n",
    "from keras.layers import Dense, Flatten \n",
    "from collections import deque\n",
    "\n",
    "import numpy as np\n",
    "import gym \n",
    "env = gym.make('SpaceInvaders-v0')\n",
    "\n",
    "import random \n",
    "\n",
    "# Create network \n",
    "model = Sequential()\n",
    "model.add(Dense(20, input_shape = (2,) + env.observation_space.shape, kernel_initializer = 'uniform', activation = 'relu'))\n",
    "model.add(Flatten())\n",
    "model.add(Dense(18, kernel_initializer = 'uniform', activation = 'relu'))\n",
    "model.add(Dense(10, kernel_initializer = 'uniform', activation = 'relu'))\n",
    "model.add(Dense(env.action_space.n, kernel_initializer = 'uniform', activation = 'linear'))\n",
    "model.compile(loss = 'mse', optimizer = 'adam', metrics = ['accuracy'])\n",
    "\n",
    "# Parameters \n",
    "#where actions will be stored\n",
    "D = deque()\n",
    "#Game observing results\n",
    "observertime = 1000\n",
    "#Probability of doing a random move\n",
    "eplison = 0.7\n",
    "# Discounted Future reward\n",
    "gama = 0.9\n",
    "# Learning minibatch size\n",
    "mb_size = 10"
   ]
  },
  {
   "cell_type": "code",
   "execution_count": 4,
   "metadata": {},
   "outputs": [
    {
     "name": "stdout",
     "output_type": "stream",
     "text": [
      "Observing Finished\n"
     ]
    }
   ],
   "source": [
    "# Knowing what each action does \n",
    "observation = env.reset()                     # Game begins\n",
    "obs = np.expand_dims(observation, axis=0)     # (Formatting issues) Making the observation the first element of a batch of inputs \n",
    "state = np.stack((obs, obs), axis=1)\n",
    "done = False\n",
    "for t in range(1000):\n",
    "    if np.random.rand() <= 1:\n",
    "        action = np.random.randint(0, env.action_space.n, size = 1)[0]\n",
    "    else:\n",
    "        Q = model.predict(state)          \n",
    "        action = np.argmax(Q)             \n",
    "    observation_new, reward, done, info = env.step(action)     \n",
    "    obs_new = np.expand_dims(observation_new, axis = 0)          \n",
    "    state_new = np.append(np.expand_dims(obs_new, axis = 0), state[:, :1, :], axis = 1)     \n",
    "    D.append((state, action, reward, state_new, done))         \n",
    "    state = state_new        \n",
    "    if done:\n",
    "        env.reset()          \n",
    "        obs = np.expand_dims(observation, axis = 0)      \n",
    "        state = np.stack((obs, obs), axis = 1)\n",
    "print('Observing Finished')"
   ]
  },
  {
   "cell_type": "code",
   "execution_count": 5,
   "metadata": {},
   "outputs": [
    {
     "name": "stdout",
     "output_type": "stream",
     "text": [
      "Learning Finished\n"
     ]
    }
   ],
   "source": [
    "#observations\n",
    "\n",
    "minibatch = random.sample(D, mb_size)                              \n",
    "\n",
    "inputs_shape = (mb_size,) + state.shape[1:]\n",
    "inputs = np.zeros(inputs_shape)\n",
    "targets = np.zeros((mb_size, env.action_space.n))\n",
    "\n",
    "for i in range(0, mb_size):\n",
    "    state = minibatch[i][0]\n",
    "    action = minibatch[i][1]\n",
    "    reward = minibatch[i][2]\n",
    "    state_new = minibatch[i][3]\n",
    "    done = minibatch[i][4]\n",
    "    \n",
    "# Build equation for the Q function\n",
    "    inputs[i:i+1] = np.expand_dims(state, axis=0)\n",
    "    targets[i] = model.predict(state)\n",
    "    Q_sa = model.predict(state_new)\n",
    "    \n",
    "    if done:\n",
    "        targets[i, action] = reward\n",
    "    else:\n",
    "        targets[i, action] = reward + 0.9 * np.max(Q_sa)\n",
    "\n",
    "# Train network\n",
    "    model.train_on_batch(inputs, targets)\n",
    "print('Learning Finished')"
   ]
  },
  {
   "cell_type": "code",
   "execution_count": 6,
   "metadata": {},
   "outputs": [
    {
     "name": "stdout",
     "output_type": "stream",
     "text": [
      "Game ended! Total reward: 0.0\n"
     ]
    }
   ],
   "source": [
    "# Play\n",
    "\n",
    "observation = env.reset()\n",
    "obs = np.expand_dims(observation, axis=0)\n",
    "state = np.stack((obs, obs), axis=1)\n",
    "done = False\n",
    "tot_reward = 0.0\n",
    "while not done:\n",
    "    env.render()                    \n",
    "    Q = model.predict(state)        \n",
    "    action = np.argmax(Q)         \n",
    "    observation, reward, done, info = env.step(action)\n",
    "    obs = np.expand_dims(observation, axis = 0)\n",
    "    state = np.append(np.expand_dims(obs, axis = 0), state[:, :1, :], axis = 1)    \n",
    "    tot_reward += reward\n",
    "print('Game ended! Total reward: {}'.format(reward))"
   ]
  },
  {
   "cell_type": "markdown",
   "metadata": {},
   "source": [
    "To gain better results on the output of the game longer training times are required.\n",
    "Increase the mini batch size in Initialization\n",
    "\n",
    "![alt text](OutPut.png \"Game Results\")"
   ]
  },
  {
   "cell_type": "code",
   "execution_count": null,
   "metadata": {
    "collapsed": true
   },
   "outputs": [],
   "source": []
  }
 ],
 "metadata": {
  "kernelspec": {
   "display_name": "Python 3",
   "language": "python",
   "name": "python3"
  },
  "language_info": {
   "codemirror_mode": {
    "name": "ipython",
    "version": 3
   },
   "file_extension": ".py",
   "mimetype": "text/x-python",
   "name": "python",
   "nbconvert_exporter": "python",
   "pygments_lexer": "ipython3",
   "version": "3.6.1"
  }
 },
 "nbformat": 4,
 "nbformat_minor": 2
}
